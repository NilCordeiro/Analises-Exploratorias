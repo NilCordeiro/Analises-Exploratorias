{
 "cells": [
  {
   "cell_type": "markdown",
   "id": "50350e83-8d81-4ca6-bc0e-e6803e68af83",
   "metadata": {},
   "source": [
    "## Analise Exploratória "
   ]
  },
  {
   "cell_type": "markdown",
   "id": "24ee8911-03d8-4a43-ad92-0d20c9ab03ac",
   "metadata": {},
   "source": [
    "#### José Aldanildo | data science student"
   ]
  },
  {
   "cell_type": "markdown",
   "id": "74fa32c3-437f-46e8-9a05-1c9fa91e5b10",
   "metadata": {},
   "source": [
    "##### dados: https://www.kaggle.com/rubenssjr/brasilian-houses-to-rent\n",
    "\n",
    "Colunas\n",
    "\n",
    "- city : Cidade onde o imóvel está localizada / City where the property is located\n",
    "- area : Area do imovel / Property area\n",
    "- rooms: Numero de quartos/ Quantity of rooms\n",
    "- bathroom: Numero de banheiros / Quantity of bathroom\n",
    "- parking spaces : Numero de vagas / Quantity of parking spaces\n",
    "- floor : Andar / Floor\n",
    "- animal : Aceita animais? / Acept animals?\n",
    "- furniture : Mobilhada? / Furniture?\n",
    "- hoa (RS): Valor do condomínio / Homeowners association tax\n",
    "- rent amount (RS) : Valor do Aluguel (/) Rent amount\n",
    "- property tax (RS) : IPTU (/) Property tax\n",
    "- fire insurance (RS) : Seguro Incendio / Fire Insurance\n",
    "- total (RS) : Valor total / Total"
   ]
  },
  {
   "cell_type": "code",
   "execution_count": 13,
   "id": "2d9f6d93-b08e-4543-a740-db93318cb764",
   "metadata": {},
   "outputs": [],
   "source": [
    "# Importando a Biblioteca a ser usada nessa analise\n",
    "import pandas as pd\n",
    "import seaborn as sns\n",
    "import matplotlib.pyplot as plt"
   ]
  },
  {
   "cell_type": "code",
   "execution_count": 3,
   "id": "09fc9101-a222-4a05-818f-8f0f9df59229",
   "metadata": {},
   "outputs": [
    {
     "data": {
      "text/html": [
       "<div>\n",
       "<style scoped>\n",
       "    .dataframe tbody tr th:only-of-type {\n",
       "        vertical-align: middle;\n",
       "    }\n",
       "\n",
       "    .dataframe tbody tr th {\n",
       "        vertical-align: top;\n",
       "    }\n",
       "\n",
       "    .dataframe thead th {\n",
       "        text-align: right;\n",
       "    }\n",
       "</style>\n",
       "<table border=\"1\" class=\"dataframe\">\n",
       "  <thead>\n",
       "    <tr style=\"text-align: right;\">\n",
       "      <th></th>\n",
       "      <th>city</th>\n",
       "      <th>area</th>\n",
       "      <th>rooms</th>\n",
       "      <th>bathroom</th>\n",
       "      <th>parking spaces</th>\n",
       "      <th>floor</th>\n",
       "      <th>animal</th>\n",
       "      <th>furniture</th>\n",
       "      <th>hoa (R$)</th>\n",
       "      <th>rent amount (R$)</th>\n",
       "      <th>property tax (R$)</th>\n",
       "      <th>fire insurance (R$)</th>\n",
       "      <th>total (R$)</th>\n",
       "    </tr>\n",
       "  </thead>\n",
       "  <tbody>\n",
       "    <tr>\n",
       "      <th>0</th>\n",
       "      <td>São Paulo</td>\n",
       "      <td>70</td>\n",
       "      <td>2</td>\n",
       "      <td>1</td>\n",
       "      <td>1</td>\n",
       "      <td>7</td>\n",
       "      <td>acept</td>\n",
       "      <td>furnished</td>\n",
       "      <td>2065</td>\n",
       "      <td>3300</td>\n",
       "      <td>211</td>\n",
       "      <td>42</td>\n",
       "      <td>5618</td>\n",
       "    </tr>\n",
       "    <tr>\n",
       "      <th>1</th>\n",
       "      <td>São Paulo</td>\n",
       "      <td>320</td>\n",
       "      <td>4</td>\n",
       "      <td>4</td>\n",
       "      <td>0</td>\n",
       "      <td>20</td>\n",
       "      <td>acept</td>\n",
       "      <td>not furnished</td>\n",
       "      <td>1200</td>\n",
       "      <td>4960</td>\n",
       "      <td>1750</td>\n",
       "      <td>63</td>\n",
       "      <td>7973</td>\n",
       "    </tr>\n",
       "    <tr>\n",
       "      <th>2</th>\n",
       "      <td>Porto Alegre</td>\n",
       "      <td>80</td>\n",
       "      <td>1</td>\n",
       "      <td>1</td>\n",
       "      <td>1</td>\n",
       "      <td>6</td>\n",
       "      <td>acept</td>\n",
       "      <td>not furnished</td>\n",
       "      <td>1000</td>\n",
       "      <td>2800</td>\n",
       "      <td>0</td>\n",
       "      <td>41</td>\n",
       "      <td>3841</td>\n",
       "    </tr>\n",
       "    <tr>\n",
       "      <th>3</th>\n",
       "      <td>Porto Alegre</td>\n",
       "      <td>51</td>\n",
       "      <td>2</td>\n",
       "      <td>1</td>\n",
       "      <td>0</td>\n",
       "      <td>2</td>\n",
       "      <td>acept</td>\n",
       "      <td>not furnished</td>\n",
       "      <td>270</td>\n",
       "      <td>1112</td>\n",
       "      <td>22</td>\n",
       "      <td>17</td>\n",
       "      <td>1421</td>\n",
       "    </tr>\n",
       "    <tr>\n",
       "      <th>4</th>\n",
       "      <td>São Paulo</td>\n",
       "      <td>25</td>\n",
       "      <td>1</td>\n",
       "      <td>1</td>\n",
       "      <td>0</td>\n",
       "      <td>1</td>\n",
       "      <td>not acept</td>\n",
       "      <td>not furnished</td>\n",
       "      <td>0</td>\n",
       "      <td>800</td>\n",
       "      <td>25</td>\n",
       "      <td>11</td>\n",
       "      <td>836</td>\n",
       "    </tr>\n",
       "  </tbody>\n",
       "</table>\n",
       "</div>"
      ],
      "text/plain": [
       "           city  area  rooms  bathroom  parking spaces floor     animal  \\\n",
       "0     São Paulo    70      2         1               1     7      acept   \n",
       "1     São Paulo   320      4         4               0    20      acept   \n",
       "2  Porto Alegre    80      1         1               1     6      acept   \n",
       "3  Porto Alegre    51      2         1               0     2      acept   \n",
       "4     São Paulo    25      1         1               0     1  not acept   \n",
       "\n",
       "       furniture  hoa (R$)  rent amount (R$)  property tax (R$)  \\\n",
       "0      furnished      2065              3300                211   \n",
       "1  not furnished      1200              4960               1750   \n",
       "2  not furnished      1000              2800                  0   \n",
       "3  not furnished       270              1112                 22   \n",
       "4  not furnished         0               800                 25   \n",
       "\n",
       "   fire insurance (R$)  total (R$)  \n",
       "0                   42        5618  \n",
       "1                   63        7973  \n",
       "2                   41        3841  \n",
       "3                   17        1421  \n",
       "4                   11         836  "
      ]
     },
     "execution_count": 3,
     "metadata": {},
     "output_type": "execute_result"
    }
   ],
   "source": [
    "# Carregando o dataset e printando as 5 primeiras linhas\n",
    "data = pd.read_csv('houses_to_rent_v2.csv')\n",
    "data.head()"
   ]
  },
  {
   "cell_type": "code",
   "execution_count": 4,
   "id": "2f7eeb1a-081a-4f03-8178-8ee03da1f203",
   "metadata": {},
   "outputs": [
    {
     "data": {
      "text/plain": [
       "city                   0\n",
       "area                   0\n",
       "rooms                  0\n",
       "bathroom               0\n",
       "parking spaces         0\n",
       "floor                  0\n",
       "animal                 0\n",
       "furniture              0\n",
       "hoa (R$)               0\n",
       "rent amount (R$)       0\n",
       "property tax (R$)      0\n",
       "fire insurance (R$)    0\n",
       "total (R$)             0\n",
       "dtype: int64"
      ]
     },
     "execution_count": 4,
     "metadata": {},
     "output_type": "execute_result"
    }
   ],
   "source": [
    "# verificando se tem dados faltantes no dataset\n",
    "data.isnull().sum()"
   ]
  },
  {
   "cell_type": "code",
   "execution_count": 5,
   "id": "f31b1465-d296-42d5-b1b5-e7d10c725fb6",
   "metadata": {},
   "outputs": [
    {
     "name": "stdout",
     "output_type": "stream",
     "text": [
      "<class 'pandas.core.frame.DataFrame'>\n",
      "RangeIndex: 10692 entries, 0 to 10691\n",
      "Data columns (total 13 columns):\n",
      " #   Column               Non-Null Count  Dtype \n",
      "---  ------               --------------  ----- \n",
      " 0   city                 10692 non-null  object\n",
      " 1   area                 10692 non-null  int64 \n",
      " 2   rooms                10692 non-null  int64 \n",
      " 3   bathroom             10692 non-null  int64 \n",
      " 4   parking spaces       10692 non-null  int64 \n",
      " 5   floor                10692 non-null  object\n",
      " 6   animal               10692 non-null  object\n",
      " 7   furniture            10692 non-null  object\n",
      " 8   hoa (R$)             10692 non-null  int64 \n",
      " 9   rent amount (R$)     10692 non-null  int64 \n",
      " 10  property tax (R$)    10692 non-null  int64 \n",
      " 11  fire insurance (R$)  10692 non-null  int64 \n",
      " 12  total (R$)           10692 non-null  int64 \n",
      "dtypes: int64(9), object(4)\n",
      "memory usage: 1.1+ MB\n"
     ]
    }
   ],
   "source": [
    "# verificando os tipos de variaveis de cada coluna\n",
    "data.info()"
   ]
  },
  {
   "cell_type": "markdown",
   "id": "4aec087e-fdc1-4692-aec5-ffd94abd8fb2",
   "metadata": {},
   "source": [
    "### Problema: Explorar o valor do aluguel (rent amount RS)\n",
    "#### Estatistica univariada"
   ]
  },
  {
   "cell_type": "code",
   "execution_count": 7,
   "id": "620e97a0-a006-4751-a064-c87aad533d66",
   "metadata": {},
   "outputs": [],
   "source": [
    "# renomiando a coluna rent amount\n",
    "data.rename(columns = {'rent amount (R$)':'valor_aluguel'},inplace = True)"
   ]
  },
  {
   "cell_type": "code",
   "execution_count": 8,
   "id": "0334fa99-b9fc-471d-8798-5d5ac6548e0e",
   "metadata": {},
   "outputs": [
    {
     "data": {
      "text/plain": [
       "3896.247194163861"
      ]
     },
     "execution_count": 8,
     "metadata": {},
     "output_type": "execute_result"
    }
   ],
   "source": [
    "# Pegando o valor da média dos alugueis\n",
    "data['valor_aluguel'].mean()"
   ]
  },
  {
   "cell_type": "code",
   "execution_count": 9,
   "id": "fe9f3a1f-2520-4cf2-bc0e-ecd780971443",
   "metadata": {},
   "outputs": [
    {
     "data": {
      "text/plain": [
       "2661.0"
      ]
     },
     "execution_count": 9,
     "metadata": {},
     "output_type": "execute_result"
    }
   ],
   "source": [
    "# Pegando a mediana \n",
    "data['valor_aluguel'].median()"
   ]
  },
  {
   "cell_type": "code",
   "execution_count": 10,
   "id": "36e5db0a-6bd5-41c3-8923-f355ed26720b",
   "metadata": {},
   "outputs": [
    {
     "data": {
      "text/plain": [
       "3408.5455176710816"
      ]
     },
     "execution_count": 10,
     "metadata": {},
     "output_type": "execute_result"
    }
   ],
   "source": [
    "# Desvio padrão do valor dos alugueis\n",
    "data['valor_aluguel'].std()"
   ]
  },
  {
   "cell_type": "code",
   "execution_count": 11,
   "id": "a02f730d-4689-4aa0-95b6-7d99ef238af4",
   "metadata": {},
   "outputs": [
    {
     "data": {
      "text/plain": [
       "count    10692.000000\n",
       "mean      3896.247194\n",
       "std       3408.545518\n",
       "min        450.000000\n",
       "25%       1530.000000\n",
       "50%       2661.000000\n",
       "75%       5000.000000\n",
       "max      45000.000000\n",
       "Name: valor_aluguel, dtype: float64"
      ]
     },
     "execution_count": 11,
     "metadata": {},
     "output_type": "execute_result"
    }
   ],
   "source": [
    "# analise estatisca basica sobre o valor dos alugueis\n",
    "data['valor_aluguel'].describe()"
   ]
  },
  {
   "cell_type": "code",
   "execution_count": 19,
   "id": "d3c7c910-ee8b-4403-919f-80c17675b108",
   "metadata": {},
   "outputs": [
    {
     "data": {
      "text/plain": [
       "<AxesSubplot:xlabel='valor_aluguel', ylabel='Count'>"
      ]
     },
     "execution_count": 19,
     "metadata": {},
     "output_type": "execute_result"
    },
    {
     "data": {
      "image/png": "[encoded data removed]",
      "text/plain": [
       "<Figure size 720x288 with 1 Axes>"
      ]
     },
     "metadata": {
      "needs_background": "light"
     },
     "output_type": "display_data"
    }
   ],
   "source": [
    "# Plotando um histplot\n",
    "plt.figure(figsize =(10,4))\n",
    "sns.histplot(x = 'valor_aluguel',data = data,bins = 100)"
   ]
  },
  {
   "cell_type": "markdown",
   "id": "156a0f27-84a9-4d3f-a411-0365c7612801",
   "metadata": {},
   "source": [
    "### Explorando Multivariáveis\n",
    "#### Perguntas:\n",
    "- Qual a cidade com a média de alugule mais cara?\n",
    "- Quantos banheiros existem nas residencias com alugueis mais altos?\n",
    "- Os imoveis mais caros aceitam animais?\n",
    "- Os imoveis mais caros são mobiliados?"
   ]
  },
  {
   "cell_type": "code",
   "execution_count": 23,
   "id": "b56099d2-9938-42d0-a90b-206ca0fa0a20",
   "metadata": {},
   "outputs": [
    {
     "data": {
      "text/html": [
       "<div>\n",
       "<style scoped>\n",
       "    .dataframe tbody tr th:only-of-type {\n",
       "        vertical-align: middle;\n",
       "    }\n",
       "\n",
       "    .dataframe tbody tr th {\n",
       "        vertical-align: top;\n",
       "    }\n",
       "\n",
       "    .dataframe thead th {\n",
       "        text-align: right;\n",
       "    }\n",
       "</style>\n",
       "<table border=\"1\" class=\"dataframe\">\n",
       "  <thead>\n",
       "    <tr style=\"text-align: right;\">\n",
       "      <th></th>\n",
       "      <th>city</th>\n",
       "      <th>valor_aluguel</th>\n",
       "    </tr>\n",
       "  </thead>\n",
       "  <tbody>\n",
       "    <tr>\n",
       "      <th>4</th>\n",
       "      <td>São Paulo</td>\n",
       "      <td>3400.0</td>\n",
       "    </tr>\n",
       "    <tr>\n",
       "      <th>0</th>\n",
       "      <td>Belo Horizonte</td>\n",
       "      <td>2300.0</td>\n",
       "    </tr>\n",
       "    <tr>\n",
       "      <th>3</th>\n",
       "      <td>Rio de Janeiro</td>\n",
       "      <td>2300.0</td>\n",
       "    </tr>\n",
       "    <tr>\n",
       "      <th>2</th>\n",
       "      <td>Porto Alegre</td>\n",
       "      <td>1650.0</td>\n",
       "    </tr>\n",
       "    <tr>\n",
       "      <th>1</th>\n",
       "      <td>Campinas</td>\n",
       "      <td>1500.0</td>\n",
       "    </tr>\n",
       "  </tbody>\n",
       "</table>\n",
       "</div>"
      ],
      "text/plain": [
       "             city  valor_aluguel\n",
       "4       São Paulo         3400.0\n",
       "0  Belo Horizonte         2300.0\n",
       "3  Rio de Janeiro         2300.0\n",
       "2    Porto Alegre         1650.0\n",
       "1        Campinas         1500.0"
      ]
     },
     "execution_count": 23,
     "metadata": {},
     "output_type": "execute_result"
    }
   ],
   "source": [
    "# Qual a cidade com a média de aluguel mais cara?\n",
    "cidades_mais_caras = data.groupby('city')['valor_aluguel'].median().reset_index().sort_values('valor_aluguel',ascending = False)\n",
    "cidades_mais_caras"
   ]
  },
  {
   "cell_type": "code",
   "execution_count": 24,
   "id": "3a024af3-8230-4cd6-b4b5-30a44c8c889e",
   "metadata": {},
   "outputs": [],
   "source": [
    "# Quantos banheiros existem nas residencias com alugueis mais altos?\n",
    "## por definição os alugueis mais altos acima de R$ 5.000,00\n",
    "\n",
    "data['aluguel_alto'] = ['alto' if x >= 5000 else 'Baixo' for x in data['valor_aluguel']]"
   ]
  },
  {
   "cell_type": "code",
   "execution_count": 30,
   "id": "fbe9496f-1b85-43bc-9896-47e3ea084e76",
   "metadata": {},
   "outputs": [
    {
     "data": {
      "text/plain": [
       "<AxesSubplot:xlabel='aluguel_alto', ylabel='count'>"
      ]
     },
     "execution_count": 30,
     "metadata": {},
     "output_type": "execute_result"
    },
    {
     "data": {
      "image/png": "[encoded data removed]",
      "text/plain": [
       "<Figure size 576x216 with 1 Axes>"
      ]
     },
     "metadata": {
      "needs_background": "light"
     },
     "output_type": "display_data"
    }
   ],
   "source": [
    "# verificando a coluna criada\n",
    "plt.figure(figsize = (8,3))\n",
    "sns.countplot(x= 'aluguel_alto', data = data)"
   ]
  },
  {
   "cell_type": "code",
   "execution_count": 31,
   "id": "fcef8854-2542-4fa4-95a9-6c212f3c69e4",
   "metadata": {},
   "outputs": [
    {
     "data": {
      "text/plain": [
       "Baixo    7975\n",
       "alto     2717\n",
       "Name: aluguel_alto, dtype: int64"
      ]
     },
     "execution_count": 31,
     "metadata": {},
     "output_type": "execute_result"
    }
   ],
   "source": [
    "# Valores exatos \n",
    "data['aluguel_alto'].value_counts()"
   ]
  },
  {
   "cell_type": "code",
   "execution_count": 32,
   "id": "90270a50-0360-4914-937d-9cbe63b9a5a5",
   "metadata": {},
   "outputs": [
    {
     "data": {
      "text/plain": [
       "aluguel_alto\n",
       "Baixo    1.743699\n",
       "alto     3.684211\n",
       "Name: bathroom, dtype: float64"
      ]
     },
     "execution_count": 32,
     "metadata": {},
     "output_type": "execute_result"
    }
   ],
   "source": [
    "data.groupby('aluguel_alto')['bathroom'].mean()"
   ]
  },
  {
   "cell_type": "code",
   "execution_count": 59,
   "id": "46602c58-75d0-4299-9333-d0749c4e2187",
   "metadata": {},
   "outputs": [
    {
     "data": {
      "text/plain": [
       "<AxesSubplot:xlabel='animal', ylabel='count'>"
      ]
     },
     "execution_count": 59,
     "metadata": {},
     "output_type": "execute_result"
    },
    {
     "data": {
      "image/png": "[encoded data removed]",
      "text/plain": [
       "<Figure size 576x360 with 1 Axes>"
      ]
     },
     "metadata": {
      "needs_background": "light"
     },
     "output_type": "display_data"
    }
   ],
   "source": [
    "# Os imoveis mais caros aceitam animais\n",
    "aluguel_alto = data[data['aluguel_alto'] == 'alto']\n",
    "plt.figure(figsize = (8,5))\n",
    "sns.countplot(x = 'animal',data = aluguel_alto)"
   ]
  },
  {
   "cell_type": "code",
   "execution_count": 52,
   "id": "5cbb6105-5d29-4150-8f12-786dbb607ddc",
   "metadata": {},
   "outputs": [
    {
     "data": {
      "text/plain": [
       "acept        2223\n",
       "not acept     494\n",
       "Name: animal, dtype: int64"
      ]
     },
     "execution_count": 52,
     "metadata": {},
     "output_type": "execute_result"
    }
   ],
   "source": [
    "aluguel_alto['animal'].value_counts()"
   ]
  },
  {
   "cell_type": "code",
   "execution_count": 68,
   "id": "85459137-7585-45eb-910e-d3aaa4f21dd1",
   "metadata": {},
   "outputs": [
    {
     "data": {
      "image/png": "[encoded data removed]",
      "text/plain": [
       "<Figure size 576x360 with 1 Axes>"
      ]
     },
     "metadata": {
      "needs_background": "light"
     },
     "output_type": "display_data"
    }
   ],
   "source": [
    "# Os imoveis mais caros são mobiliados\n",
    "plt.figure(figsize = (8,5))\n",
    "sns.countplot(x = 'furniture',data = aluguel_alto);"
   ]
  },
  {
   "cell_type": "markdown",
   "id": "20ec3e2f-dae1-444f-add4-fa3456700be4",
   "metadata": {},
   "source": [
    "### Hipóteses\n",
    "- São Paulo é a cidade com aluguel mais caro.\n",
    "- Quanto mais banheiro em um imovel maior o valor do aluguel.\n",
    "- Os imoveis com mobilia tem o aluguel mais alto."
   ]
  },
  {
   "cell_type": "code",
   "execution_count": 41,
   "id": "99439dd2-6688-4b1a-b37b-013dd7d86bdc",
   "metadata": {},
   "outputs": [
    {
     "data": {
      "text/html": [
       "<div>\n",
       "<style scoped>\n",
       "    .dataframe tbody tr th:only-of-type {\n",
       "        vertical-align: middle;\n",
       "    }\n",
       "\n",
       "    .dataframe tbody tr th {\n",
       "        vertical-align: top;\n",
       "    }\n",
       "\n",
       "    .dataframe thead th {\n",
       "        text-align: right;\n",
       "    }\n",
       "</style>\n",
       "<table border=\"1\" class=\"dataframe\">\n",
       "  <thead>\n",
       "    <tr style=\"text-align: right;\">\n",
       "      <th></th>\n",
       "      <th>valor_aluguel</th>\n",
       "      <th>bathroom</th>\n",
       "    </tr>\n",
       "  </thead>\n",
       "  <tbody>\n",
       "    <tr>\n",
       "      <th>valor_aluguel</th>\n",
       "      <td>1.00000</td>\n",
       "      <td>0.71589</td>\n",
       "    </tr>\n",
       "    <tr>\n",
       "      <th>bathroom</th>\n",
       "      <td>0.71589</td>\n",
       "      <td>1.00000</td>\n",
       "    </tr>\n",
       "  </tbody>\n",
       "</table>\n",
       "</div>"
      ],
      "text/plain": [
       "               valor_aluguel  bathroom\n",
       "valor_aluguel        1.00000   0.71589\n",
       "bathroom             0.71589   1.00000"
      ]
     },
     "execution_count": 41,
     "metadata": {},
     "output_type": "execute_result"
    },
    {
     "data": {
      "text/plain": [
       "<Figure size 864x576 with 0 Axes>"
      ]
     },
     "metadata": {},
     "output_type": "display_data"
    }
   ],
   "source": [
    "# Vamos ver a correlação banheiro valor aluguel\n",
    "plt.figure(figsize = (12,8))\n",
    "data[['valor_aluguel','bathroom']].corr(method = 'spearman')"
   ]
  },
  {
   "cell_type": "markdown",
   "id": "5b3f0942-68cf-4f84-97d9-9ac8f324709c",
   "metadata": {},
   "source": [
    "#### Para essa análise utilizamos as bibliotecas\n",
    "\n",
    "- Pandas\n",
    "- Seaborn\n",
    "- Matplotlib\n",
    "\n",
    "#### FIM"
   ]
  }
 ],
 "metadata": {
  "kernelspec": {
   "display_name": "Python 3 (ipykernel)",
   "language": "python",
   "name": "python3"
  },
  "language_info": {
   "codemirror_mode": {
    "name": "ipython",
    "version": 3
   },
   "file_extension": ".py",
   "mimetype": "text/x-python",
   "name": "python",
   "nbconvert_exporter": "python",
   "pygments_lexer": "ipython3",
   "version": "3.9.7"
  }
 },
 "nbformat": 4,
 "nbformat_minor": 5
}
